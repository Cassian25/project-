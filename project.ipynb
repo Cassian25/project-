{
  "metadata": {
    "kernelspec": {
      "name": "python",
      "display_name": "Python (Pyodide)",
      "language": "python"
    },
    "language_info": {
      "codemirror_mode": {
        "name": "python",
        "version": 3
      },
      "file_extension": ".py",
      "mimetype": "text/x-python",
      "name": "python",
      "nbconvert_exporter": "python",
      "pygments_lexer": "ipython3",
      "version": "3.8"
    }
  },
  "nbformat_minor": 4,
  "nbformat": 4,
  "cells": [
    {
      "cell_type": "markdown",
      "source": "# My Data Science Notebook\n",
      "metadata": {}
    },
    {
      "cell_type": "markdown",
      "source": "## Introduction\nThis notebook demonstrates various data science tools, languages, and libraries. It includes examples of arithmetic operations and unit conversions.\n",
      "metadata": {}
    },
    {
      "cell_type": "markdown",
      "source": "## Data Science Languages\n- Python\n- R\n- SQL\n- Julia\n",
      "metadata": {}
    },
    {
      "cell_type": "markdown",
      "source": "## Data Science Libraries\n- NumPy\n- Pandas\n- Matplotlib\n- Scikit-learn\n",
      "metadata": {}
    },
    {
      "cell_type": "markdown",
      "source": "## Data Science Tools\n| Tool       | Purpose                          |\n|------------|----------------------------------|\n| Jupyter    | Interactive coding               |\n| GitHub     | Version control and collaboration |\n| Anaconda   | Package management               |\n| Tableau    | Data visualization               |\n",
      "metadata": {}
    },
    {
      "cell_type": "markdown",
      "source": "## Arithmetic Expression Examples\nThis section demonstrates basic arithmetic operations.\n",
      "metadata": {}
    },
    {
      "cell_type": "markdown",
      "source": "# Multiplication and addition\na = 5\nb = 10\nresult = a * b + a\nresult\n",
      "metadata": {}
    },
    {
      "cell_type": "markdown",
      "source": "# Convert minutes to hours\ndef convert_minutes_to_hours(minutes):\n    return minutes / 60\n\nconvert_minutes_to_hours(120)  # Example: 120 minutes\n",
      "metadata": {}
    },
    {
      "cell_type": "markdown",
      "source": "## Objectives\n- Understand data science tools\n- Learn to perform arithmetic operations\n- Convert time units\n",
      "metadata": {}
    },
    {
      "cell_type": "markdown",
      "source": "## Author\nKarthikeya M\n",
      "metadata": {}
    },
    {
      "cell_type": "code",
      "source": "",
      "metadata": {
        "trusted": true
      },
      "outputs": [],
      "execution_count": null
    }
  ]
}